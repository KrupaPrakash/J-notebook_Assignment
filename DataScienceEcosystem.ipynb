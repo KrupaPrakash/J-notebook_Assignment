{
 "cells": [
  {
   "cell_type": "markdown",
   "id": "154baa51-a31b-4259-96f4-997c18acc7b4",
   "metadata": {},
   "source": [
    "# Data Science Tools and Ecosystem"
   ]
  },
  {
   "cell_type": "markdown",
   "id": "b98bf80e-6a85-4e17-b046-f08dbcefff2b",
   "metadata": {},
   "source": [
    "In this notebook, Data Science Tools and Ecosystem are summarized."
   ]
  },
  {
   "cell_type": "markdown",
   "id": "b8849a8b-ca07-4ebc-bc1d-bab059ae0a2e",
   "metadata": {},
   "source": [
    "__Objectives:__\n",
    "\n",
    "* Language used by Data Scientists\n",
    "* Commonly used libraries by Data Scientists\n",
    "* Commonly used Data Science tools\n",
    "* Illustration of a few basic arithmetic expressions\n",
    "    * Minutes to Hours conversion\n"
   ]
  },
  {
   "cell_type": "markdown",
   "id": "e68d6fcd-3b85-43ff-887b-ebfb76de2f87",
   "metadata": {},
   "source": [
    "Some of the popular languages that Data Scientists use are :\n",
    "\n",
    "1. Python\n",
    "2. R\n",
    "3. SOL\n",
    "4. Julia\n"
   ]
  },
  {
   "cell_type": "markdown",
   "id": "99ae0121-5dfe-4bcf-9184-e66f58c66c7b",
   "metadata": {},
   "source": [
    "Some of the commonly used libraiest used by Data Scientists include:\n",
    "\n",
    "1. TensorFlow\n",
    "2. Pandas\n",
    "3. NumPy\n",
    "4. Scikit-learn\n",
    "5. Matplotlib\n",
    "   "
   ]
  },
  {
   "cell_type": "markdown",
   "id": "cc5bc7e9-f30c-4d83-9d82-91724d3c2cd8",
   "metadata": {},
   "source": [
    "|Data Science Tools|\n",
    "--------------------\n",
    "|Jupyter Notebook|\n",
    "|R Studio|\n",
    "|Zeppelin Notebook|\n",
    "|Apache Spark|\n"
   ]
  },
  {
   "cell_type": "markdown",
   "id": "f35d237d-0539-4998-a040-a8f6ded3b612",
   "metadata": {},
   "source": [
    "### Below are a few examples of evaluating arithmetic expressions in Python\n"
   ]
  },
  {
   "cell_type": "markdown",
   "id": "d0b7edcf-657c-4879-ab5b-64239b0ef9f0",
   "metadata": {},
   "source": [
    "This a simple arithmetic expression to mutiply then add integers"
   ]
  },
  {
   "cell_type": "code",
   "execution_count": 9,
   "id": "d52de820-c5ed-4710-85ae-22d83db43086",
   "metadata": {},
   "outputs": [
    {
     "data": {
      "text/plain": [
       "17"
      ]
     },
     "execution_count": 9,
     "metadata": {},
     "output_type": "execute_result"
    }
   ],
   "source": [
    "(3*4)+5"
   ]
  },
  {
   "cell_type": "markdown",
   "id": "b886f1bc-3ccc-4664-970b-952448ca6d84",
   "metadata": {},
   "source": [
    " This will convert 200 minutes to hours by diving by 60"
   ]
  },
  {
   "cell_type": "code",
   "execution_count": 16,
   "id": "323be2e2-8216-4cfa-ab61-a1d6822c4662",
   "metadata": {},
   "outputs": [
    {
     "name": "stdin",
     "output_type": "stream",
     "text": [
      "Please enter the minutes 200\n"
     ]
    },
    {
     "name": "stdout",
     "output_type": "stream",
     "text": [
      "200 minutes is  3 hours 20 minutes\n"
     ]
    }
   ],
   "source": [
    "min=int(input(\"Please enter the minutes\"))\n",
    "h=min//60\n",
    "m=min%60\n",
    "print(min,\"minutes is \",h,\"hours\",m,\"minutes\")"
   ]
  },
  {
   "cell_type": "code",
   "execution_count": null,
   "id": "66d3d1a7-0dc4-4685-a886-6b0b79c51c33",
   "metadata": {},
   "outputs": [],
   "source": []
  }
 ],
 "metadata": {
  "kernelspec": {
   "display_name": "Python 3 (ipykernel)",
   "language": "python",
   "name": "python3"
  },
  "language_info": {
   "codemirror_mode": {
    "name": "ipython",
    "version": 3
   },
   "file_extension": ".py",
   "mimetype": "text/x-python",
   "name": "python",
   "nbconvert_exporter": "python",
   "pygments_lexer": "ipython3",
   "version": "3.12.4"
  }
 },
 "nbformat": 4,
 "nbformat_minor": 5
}
